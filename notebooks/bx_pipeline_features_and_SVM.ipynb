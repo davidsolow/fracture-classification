{
 "cells": [
  {
   "cell_type": "markdown",
   "id": "e1d505b9",
   "metadata": {},
   "source": [
    "### Pre-Processing and Feature Extraction"
   ]
  },
  {
   "cell_type": "code",
   "execution_count": 12,
   "id": "642c4763",
   "metadata": {},
   "outputs": [],
   "source": [
    "import cv2\n",
    "import matplotlib.pyplot as plt\n",
    "from skimage.feature import hog\n",
    "from skimage import exposure\n",
    "import random\n",
    "import os\n",
    "import tensorflow as tf\n",
    "from tensorflow.keras.utils import image_dataset_from_directory\n",
    "from sklearn.preprocessing import LabelEncoder\n",
    "import pandas as pd\n",
    "import numpy as np\n",
    "import numpy"
   ]
  },
  {
   "cell_type": "code",
   "execution_count": 2,
   "id": "f25a0de2",
   "metadata": {},
   "outputs": [],
   "source": [
    "# Define paths for each fracture type\n",
    "root = '../data/'\n",
    "train_paths = {\n",
    "    'Hairline Fracture': root + 'Hairline Fracture/Train',\n",
    "    'Spiral Fracture': root + 'Spiral Fracture/Train',\n",
    "    'Greenstick Fracture': root + 'Greenstick fracture/Train',\n",
    "    'Comminuted Fracture': root + 'Comminuted fracture/Train',\n",
    "    'Fracture Dislocation': root + 'Fracture Dislocation/Train',\n",
    "    'Pathological Fracture': root + 'Pathological fracture/Train',\n",
    "    'Longitudinal Fracture': root + 'Longitudinal fracture/Train',\n",
    "    'Oblique Fracture': root + 'Oblique fracture/Train',\n",
    "    'Impacted Fracture': root + 'Impacted fracture/Train',\n",
    "    'Avulsion Fracture': root + 'Avulsion fracture/Train'\n",
    "}\n",
    "\n",
    "test_paths = {\n",
    "    'Hairline Fracture': root + 'Hairline Fracture/Test',\n",
    "    'Spiral Fracture': root + 'Spiral Fracture/Test',\n",
    "    'Greenstick Fracture': root + 'Greenstick fracture/Test',\n",
    "    'Comminuted Fracture': root + 'Comminuted fracture/Test',\n",
    "    'Fracture Dislocation': root + 'Fracture Dislocation/Test',\n",
    "    'Pathological Fracture': root + 'Pathological fracture/Test',\n",
    "    'Longitudinal Fracture': root + 'Longitudinal fracture/Test',\n",
    "    'Oblique Fracture': root + 'Oblique fracture/Test',\n",
    "    'Impacted Fracture': root + 'Impacted fracture/Test',\n",
    "    'Avulsion Fracture': root + 'Avulsion fracture/Test'\n",
    "}"
   ]
  },
  {
   "cell_type": "code",
   "execution_count": 3,
   "id": "ecda14c8",
   "metadata": {},
   "outputs": [],
   "source": [
    "# Function to load and preprocess an image\n",
    "def load_image(image_path, image_size=(512, 512), unsharp_amount=1.5, sigma=1.5):\n",
    "    # Read the image from the file\n",
    "    image = tf.io.read_file(image_path)\n",
    "    \n",
    "    # Decode the JPEG image into a tensor\n",
    "    image = tf.image.decode_jpeg(image, channels=3)\n",
    "    \n",
    "    # Convert to grayscale\n",
    "    image = cv2.cvtColor(image.numpy(), cv2.COLOR_RGB2GRAY)\n",
    "    \n",
    "    # Resize the image to the desired size\n",
    "    image = cv2.resize(image, image_size)\n",
    "    \n",
    "    # Apply histogram equalization\n",
    "    # image = cv2.equalizeHist(image)\n",
    "    \n",
    "    # Create a Gaussian blurred version of the image\n",
    "    blurred = cv2.GaussianBlur(image, (0, 0), sigma)\n",
    "    \n",
    "    # Calculate the unsharp mask\n",
    "    image = cv2.addWeighted(image, 1 + unsharp_amount, blurred, -unsharp_amount, 0)\n",
    "    \n",
    "    return image\n",
    "\n",
    "def create_2d_gaussian(size, sigma):\n",
    "    # Create a linear space from -size//2 to size//2\n",
    "    ax = np.linspace(-(size // 2), size // 2, size)\n",
    "    # Create a meshgrid from the linear space\n",
    "    xx, yy = np.meshgrid(ax, ax)\n",
    "    # Calculate the Gaussian kernel\n",
    "    kernel = np.exp(-0.5 * (np.square(xx) + np.square(yy)) / np.square(sigma))\n",
    "    # Normalize the kernel so that the sum is 1\n",
    "    return kernel / np.sum(kernel)\n",
    "\n",
    "def convolve2d(image, kernel):\n",
    "    # Flip the kernel for convolution\n",
    "    kernel = kernel[::-1, ::-1]\n",
    "    # Create an output array of the same shape as the input image\n",
    "    output = np.zeros_like(image)\n",
    "    # Pad the input image to handle borders\n",
    "    image_padded = np.pad(image, [(kernel.shape[0]//2, kernel.shape[0]//2), \n",
    "                                  (kernel.shape[1]//2, kernel.shape[1]//2)], mode='reflect')\n",
    "    # Loop over each pixel in the image\n",
    "    for x in range(image.shape[1]):\n",
    "        for y in range(image.shape[0]):\n",
    "            # Perform element-wise multiplication and sum the results\n",
    "            output[y, x] = (kernel * image_padded[y:y+kernel.shape[0], x:x+kernel.shape[1]]).sum()\n",
    "    return output\n",
    "\n",
    "def gaussian_and_laplacian_stack(img, levels, size=17, sigma=3):\n",
    "    # Initialize the Gaussian stack with the original image\n",
    "    gaussian_stack = [img]\n",
    "    # Initialize the Laplacian stack\n",
    "    laplacian_stack = []\n",
    "\n",
    "    # Loop to create each level of the Gaussian and Laplacian stacks\n",
    "    for i in range(1, levels):\n",
    "        # Create the Gaussian kernel\n",
    "        gaussian_kernel = create_2d_gaussian(size, sigma)\n",
    "        # Convolve the last image in the Gaussian stack with the Gaussian kernel\n",
    "        gaussian = convolve2d(gaussian_stack[-1], gaussian_kernel)\n",
    "        # Append the resulting image to the Gaussian stack\n",
    "        gaussian_stack.append(gaussian)\n",
    "        # Calculate the Laplacian image by subtracting the current Gaussian image from the previous one\n",
    "        laplacian = gaussian_stack[-2] - gaussian\n",
    "        # Append the Laplacian image to the Laplacian stack\n",
    "        laplacian_stack.append(laplacian)\n",
    "\n",
    "    # The last level of the Laplacian stack is the last image in the Gaussian stack\n",
    "    laplacian_stack.append(gaussian_stack[-1])\n",
    "    return gaussian_stack, laplacian_stack\n",
    "\n",
    "def visualize_stack(in_stack, title):\n",
    "    # Create a figure with subplots for each level in the stack\n",
    "    fig, axes = plt.subplots(1, len(in_stack), figsize=(15, 10))\n",
    "    # Loop over each level and corresponding subplot axis\n",
    "    for i, (ax, img) in enumerate(zip(axes, in_stack)):\n",
    "        # Display the image on the axis\n",
    "        ax.imshow(img, cmap='gray', vmin=np.min(img), vmax=np.max(img))\n",
    "        # Set the title of the subplot to indicate the level\n",
    "        ax.set_title(f'Level {i+1}')\n",
    "        # Remove the axis ticks and labels\n",
    "        ax.axis('off')\n",
    "    # Set the overall title for the figure\n",
    "    fig.suptitle(title)\n",
    "    # Show the figure\n",
    "    plt.show()\n",
    "\n",
    "# Custom feature extraction functions\n",
    "def extract_hog_features(image):\n",
    "    # Extract HOG features and the HOG image\n",
    "    fd, hog_image = hog(image, orientations=9, pixels_per_cell=(8, 8),\n",
    "                        cells_per_block=(2, 2), visualize=True)\n",
    "    return fd, hog_image\n",
    "\n",
    "def extract_canny_edges(image):\n",
    "\n",
    "    # Extract Canny edges\n",
    "    edges = cv2.Canny(image, threshold1=100, threshold2=200)\n",
    "    return edges.ravel(), edges\n",
    "\n",
    "def extract_contours(image, max_contours=5):\n",
    "\n",
    "    # Apply a binary threshold to the grayscale image\n",
    "    ret, thresh = cv2.threshold(image, 127, 255, cv2.THRESH_BINARY)\n",
    "    # Find contours in the binary image\n",
    "    contours, _ = cv2.findContours(thresh, cv2.RETR_TREE, cv2.CHAIN_APPROX_SIMPLE)\n",
    "    # Initialize a list to store contour features\n",
    "    contour_features = []\n",
    "    # Loop over the first 5 contours\n",
    "    for contour in contours[:5]:\n",
    "        # Calculate the moments of the contour\n",
    "        moments = cv2.moments(contour)\n",
    "        # Calculate the Hu moments and flatten them\n",
    "        hu_moments = cv2.HuMoments(moments).flatten()\n",
    "        # Append the Hu moments to the contour features list\n",
    "        contour_features.extend(hu_moments)\n",
    "        \n",
    "    # Pad with zeros if fewer than max_contours are found\n",
    "    while len(contour_features) < max_contours * 7:\n",
    "        contour_features.append(0.0)\n",
    "        \n",
    "    return np.array(contour_features), contours"
   ]
  },
  {
   "cell_type": "markdown",
   "id": "a087ba3d",
   "metadata": {},
   "source": [
    "### SVM Model"
   ]
  },
  {
   "cell_type": "code",
   "execution_count": 4,
   "id": "4f3b08a3",
   "metadata": {},
   "outputs": [],
   "source": [
    "from sklearn import svm\n",
    "from sklearn.model_selection import train_test_split\n",
    "from sklearn.preprocessing import StandardScaler\n",
    "from sklearn.metrics import classification_report, accuracy_score\n",
    "from skimage.feature import hog\n",
    "from sklearn.decomposition import PCA\n",
    "\n",
    "from tqdm import tqdm\n",
    "import time"
   ]
  },
  {
   "cell_type": "code",
   "execution_count": 5,
   "id": "a4bafc3e",
   "metadata": {},
   "outputs": [],
   "source": [
    "# Extract features for all images and prepare the dataset\n",
    "def prepare_dataset(paths):\n",
    "    features = []\n",
    "    labels = []\n",
    "    feature_shapes = []\n",
    "\n",
    "    for class_name, class_path in paths.items():\n",
    "        image_files = tf.io.gfile.listdir(class_path)\n",
    "        for image_file in tqdm(image_files, desc=f\"Processing {class_name}\"):\n",
    "            image_path = os.path.join(class_path, image_file)\n",
    "            image = load_image(image_path)\n",
    "            hog_features, _ = extract_hog_features(image)\n",
    "            canny_features, _ = extract_canny_edges(image)\n",
    "            contour_features, _ = extract_contours(image)\n",
    "            \n",
    "            # Store the shapes of the feature vectors\n",
    "            feature_shapes.append({\n",
    "                \"class\": class_name,\n",
    "                \"image_file\": image_file,\n",
    "                \"hog_shape\": hog_features.shape,\n",
    "                \"canny_shape\": canny_features.shape,\n",
    "                \"contour_shape\": contour_features.shape\n",
    "            })\n",
    "            \n",
    "            # Ensure that all features are flattened\n",
    "            hog_features = hog_features.flatten()\n",
    "            canny_features = canny_features.flatten()\n",
    "            contour_features = contour_features.flatten()\n",
    "            \n",
    "            # Concatenate feature vectors\n",
    "            feature_vector = np.concatenate((hog_features, canny_features, contour_features))\n",
    "            features.append(feature_vector)\n",
    "            labels.append(class_name)\n",
    "        print(f\"{class_name} Completed\")\n",
    "    \n",
    "    return np.array(features), np.array(labels), feature_shapes"
   ]
  },
  {
   "cell_type": "code",
   "execution_count": 6,
   "id": "0e12c153",
   "metadata": {},
   "outputs": [
    {
     "name": "stdout",
     "output_type": "stream",
     "text": [
      "Preparing Training Dataset\n"
     ]
    },
    {
     "name": "stderr",
     "output_type": "stream",
     "text": [
      "Processing Hairline Fracture: 100%|██████████████████████████████████████████████████| 101/101 [00:52<00:00,  1.91it/s]\n"
     ]
    },
    {
     "name": "stdout",
     "output_type": "stream",
     "text": [
      "Hairline Fracture Completed\n"
     ]
    },
    {
     "name": "stderr",
     "output_type": "stream",
     "text": [
      "Processing Spiral Fracture: 100%|██████████████████████████████████████████████████████| 74/74 [00:38<00:00,  1.92it/s]\n"
     ]
    },
    {
     "name": "stdout",
     "output_type": "stream",
     "text": [
      "Spiral Fracture Completed\n"
     ]
    },
    {
     "name": "stderr",
     "output_type": "stream",
     "text": [
      "Processing Greenstick Fracture: 100%|████████████████████████████████████████████████| 106/106 [00:54<00:00,  1.93it/s]\n"
     ]
    },
    {
     "name": "stdout",
     "output_type": "stream",
     "text": [
      "Greenstick Fracture Completed\n"
     ]
    },
    {
     "name": "stderr",
     "output_type": "stream",
     "text": [
      "Processing Comminuted Fracture: 100%|████████████████████████████████████████████████| 134/134 [01:09<00:00,  1.92it/s]\n"
     ]
    },
    {
     "name": "stdout",
     "output_type": "stream",
     "text": [
      "Comminuted Fracture Completed\n"
     ]
    },
    {
     "name": "stderr",
     "output_type": "stream",
     "text": [
      "Processing Fracture Dislocation: 100%|███████████████████████████████████████████████| 137/137 [01:10<00:00,  1.95it/s]\n"
     ]
    },
    {
     "name": "stdout",
     "output_type": "stream",
     "text": [
      "Fracture Dislocation Completed\n"
     ]
    },
    {
     "name": "stderr",
     "output_type": "stream",
     "text": [
      "Processing Pathological Fracture: 100%|██████████████████████████████████████████████| 116/116 [00:59<00:00,  1.96it/s]\n"
     ]
    },
    {
     "name": "stdout",
     "output_type": "stream",
     "text": [
      "Pathological Fracture Completed\n"
     ]
    },
    {
     "name": "stderr",
     "output_type": "stream",
     "text": [
      "Processing Longitudinal Fracture: 100%|████████████████████████████████████████████████| 68/68 [00:34<00:00,  1.97it/s]\n"
     ]
    },
    {
     "name": "stdout",
     "output_type": "stream",
     "text": [
      "Longitudinal Fracture Completed\n"
     ]
    },
    {
     "name": "stderr",
     "output_type": "stream",
     "text": [
      "Processing Oblique Fracture: 100%|█████████████████████████████████████████████████████| 69/69 [00:34<00:00,  1.97it/s]\n"
     ]
    },
    {
     "name": "stdout",
     "output_type": "stream",
     "text": [
      "Oblique Fracture Completed\n"
     ]
    },
    {
     "name": "stderr",
     "output_type": "stream",
     "text": [
      "Processing Impacted Fracture: 100%|████████████████████████████████████████████████████| 75/75 [00:38<00:00,  1.97it/s]\n"
     ]
    },
    {
     "name": "stdout",
     "output_type": "stream",
     "text": [
      "Impacted Fracture Completed\n"
     ]
    },
    {
     "name": "stderr",
     "output_type": "stream",
     "text": [
      "Processing Avulsion Fracture: 100%|██████████████████████████████████████████████████| 109/109 [00:55<00:00,  1.97it/s]\n"
     ]
    },
    {
     "name": "stdout",
     "output_type": "stream",
     "text": [
      "Avulsion Fracture Completed\n"
     ]
    }
   ],
   "source": [
    "print(\"Preparing Training Dataset\")\n",
    "X_train, y_train, train_feature_shapes = prepare_dataset(train_paths)"
   ]
  },
  {
   "cell_type": "code",
   "execution_count": 7,
   "id": "cec1e50f",
   "metadata": {},
   "outputs": [
    {
     "name": "stdout",
     "output_type": "stream",
     "text": [
      "Preparing Test Dataset\n"
     ]
    },
    {
     "name": "stderr",
     "output_type": "stream",
     "text": [
      "Processing Hairline Fracture: 100%|████████████████████████████████████████████████████| 10/10 [00:05<00:00,  1.93it/s]\n"
     ]
    },
    {
     "name": "stdout",
     "output_type": "stream",
     "text": [
      "Hairline Fracture Completed\n"
     ]
    },
    {
     "name": "stderr",
     "output_type": "stream",
     "text": [
      "Processing Spiral Fracture: 100%|██████████████████████████████████████████████████████| 12/12 [00:06<00:00,  1.97it/s]\n"
     ]
    },
    {
     "name": "stdout",
     "output_type": "stream",
     "text": [
      "Spiral Fracture Completed\n"
     ]
    },
    {
     "name": "stderr",
     "output_type": "stream",
     "text": [
      "Processing Greenstick Fracture: 100%|██████████████████████████████████████████████████| 16/16 [00:08<00:00,  1.94it/s]\n"
     ]
    },
    {
     "name": "stdout",
     "output_type": "stream",
     "text": [
      "Greenstick Fracture Completed\n"
     ]
    },
    {
     "name": "stderr",
     "output_type": "stream",
     "text": [
      "Processing Comminuted Fracture: 100%|██████████████████████████████████████████████████| 14/14 [00:07<00:00,  1.98it/s]\n"
     ]
    },
    {
     "name": "stdout",
     "output_type": "stream",
     "text": [
      "Comminuted Fracture Completed\n"
     ]
    },
    {
     "name": "stderr",
     "output_type": "stream",
     "text": [
      "Processing Fracture Dislocation: 100%|█████████████████████████████████████████████████| 19/19 [00:09<00:00,  1.99it/s]\n"
     ]
    },
    {
     "name": "stdout",
     "output_type": "stream",
     "text": [
      "Fracture Dislocation Completed\n"
     ]
    },
    {
     "name": "stderr",
     "output_type": "stream",
     "text": [
      "Processing Pathological Fracture: 100%|████████████████████████████████████████████████| 18/18 [00:09<00:00,  1.99it/s]\n"
     ]
    },
    {
     "name": "stdout",
     "output_type": "stream",
     "text": [
      "Pathological Fracture Completed\n"
     ]
    },
    {
     "name": "stderr",
     "output_type": "stream",
     "text": [
      "Processing Longitudinal Fracture: 100%|████████████████████████████████████████████████| 12/12 [00:06<00:00,  1.99it/s]\n"
     ]
    },
    {
     "name": "stdout",
     "output_type": "stream",
     "text": [
      "Longitudinal Fracture Completed\n"
     ]
    },
    {
     "name": "stderr",
     "output_type": "stream",
     "text": [
      "Processing Oblique Fracture: 100%|█████████████████████████████████████████████████████| 16/16 [00:08<00:00,  1.98it/s]\n"
     ]
    },
    {
     "name": "stdout",
     "output_type": "stream",
     "text": [
      "Oblique Fracture Completed\n"
     ]
    },
    {
     "name": "stderr",
     "output_type": "stream",
     "text": [
      "Processing Impacted Fracture: 100%|██████████████████████████████████████████████████████| 9/9 [00:04<00:00,  1.98it/s]\n"
     ]
    },
    {
     "name": "stdout",
     "output_type": "stream",
     "text": [
      "Impacted Fracture Completed\n"
     ]
    },
    {
     "name": "stderr",
     "output_type": "stream",
     "text": [
      "Processing Avulsion Fracture: 100%|████████████████████████████████████████████████████| 14/14 [00:07<00:00,  1.98it/s]"
     ]
    },
    {
     "name": "stdout",
     "output_type": "stream",
     "text": [
      "Avulsion Fracture Completed\n"
     ]
    },
    {
     "name": "stderr",
     "output_type": "stream",
     "text": [
      "\n"
     ]
    }
   ],
   "source": [
    "# Prepare the test dataset\n",
    "print(\"Preparing Test Dataset\")\n",
    "X_test, y_test, test_feature_shapes = prepare_dataset(test_paths)"
   ]
  },
  {
   "cell_type": "code",
   "execution_count": 10,
   "id": "c92d1f60",
   "metadata": {
    "scrolled": false
   },
   "outputs": [
    {
     "name": "stdout",
     "output_type": "stream",
     "text": [
      "HOG Feature Shape Counts:\n",
      "142884\n",
      "\n",
      "Canny Feature Shape Counts:\n",
      "262144\n",
      "\n",
      "Contour Feature Shape Counts:\n",
      "35\n",
      "\n",
      "\n",
      "\n",
      "HOG Feature Shape Counts:\n",
      "142884\n",
      "\n",
      "Canny Feature Shape Counts:\n",
      "262144\n",
      "\n",
      "Contour Feature Shape Counts:\n",
      "35\n"
     ]
    }
   ],
   "source": [
    "# Convert feature_shapes to a DataFrame for better analysis\n",
    "df_train_feature_shapes = pd.DataFrame(train_feature_shapes)\n",
    "df_test_feature_shapes = pd.DataFrame(test_feature_shapes)\n",
    "\n",
    "\n",
    "# Analyze the DataFrame to find inconsistencies\n",
    "train_hog_shapes = df_train_feature_shapes['hog_shape'].value_counts()\n",
    "train_canny_shapes = df_train_feature_shapes['canny_shape'].value_counts()\n",
    "train_contour_shapes = df_train_feature_shapes['contour_shape'].value_counts()\n",
    "\n",
    "# Analyze the DataFrame to find inconsistencies\n",
    "test_hog_shapes = df_test_feature_shapes['hog_shape'].value_counts()\n",
    "test_canny_shapes = df_test_feature_shapes['canny_shape'].value_counts()\n",
    "test_contour_shapes = df_test_feature_shapes['contour_shape'].value_counts()\n",
    "\n",
    "\n",
    "# Display the inconsistent shapes\n",
    "print(\"HOG Feature Shape Counts:\")\n",
    "print(train_hog_shapes.index[0][0])\n",
    "print(\"\\nCanny Feature Shape Counts:\")\n",
    "print(train_canny_shapes.index[0][0])\n",
    "print(\"\\nContour Feature Shape Counts:\")\n",
    "print(train_contour_shapes.index[0][0])\n",
    "\n",
    "print(\"\\n\\n\")\n",
    "\n",
    "# Display the inconsistent shapes\n",
    "print(\"HOG Feature Shape Counts:\")\n",
    "print(test_hog_shapes.index[0][0])\n",
    "print(\"\\nCanny Feature Shape Counts:\")\n",
    "print(test_canny_shapes.index[0][0])\n",
    "print(\"\\nContour Feature Shape Counts:\")\n",
    "print(test_contour_shapes.index[0][0])"
   ]
  },
  {
   "cell_type": "markdown",
   "id": "f4509ce2",
   "metadata": {},
   "source": [
    "No PCA"
   ]
  },
  {
   "cell_type": "code",
   "execution_count": 13,
   "id": "4f3ac285",
   "metadata": {},
   "outputs": [
    {
     "name": "stdout",
     "output_type": "stream",
     "text": [
      "Normalizing Features\n",
      "Encoding labels\n",
      "Training SVM\n",
      "Predicting Training Set\n",
      "Predicting Test Set\n",
      "Training Set Accuracy: 1.0\n",
      "Training Set Classification Report:\n",
      "                        precision    recall  f1-score   support\n",
      "\n",
      "    Avulsion Fracture       1.00      1.00      1.00       109\n",
      "  Comminuted Fracture       1.00      1.00      1.00       134\n",
      " Fracture Dislocation       1.00      1.00      1.00       137\n",
      "  Greenstick Fracture       1.00      1.00      1.00       106\n",
      "    Hairline Fracture       1.00      1.00      1.00       101\n",
      "    Impacted Fracture       1.00      1.00      1.00        75\n",
      "Longitudinal Fracture       1.00      1.00      1.00        68\n",
      "     Oblique Fracture       1.00      1.00      1.00        69\n",
      "Pathological Fracture       1.00      1.00      1.00       116\n",
      "      Spiral Fracture       1.00      1.00      1.00        74\n",
      "\n",
      "             accuracy                           1.00       989\n",
      "            macro avg       1.00      1.00      1.00       989\n",
      "         weighted avg       1.00      1.00      1.00       989\n",
      "\n",
      "Test Set Accuracy: 0.2357142857142857\n",
      "Test Set Classification Report:\n",
      "                        precision    recall  f1-score   support\n",
      "\n",
      "    Avulsion Fracture       0.33      0.50      0.40        14\n",
      "  Comminuted Fracture       0.17      0.29      0.21        14\n",
      " Fracture Dislocation       0.27      0.42      0.33        19\n",
      "  Greenstick Fracture       0.19      0.25      0.22        16\n",
      "    Hairline Fracture       0.12      0.10      0.11        10\n",
      "    Impacted Fracture       0.00      0.00      0.00         9\n",
      "Longitudinal Fracture       0.43      0.25      0.32        12\n",
      "     Oblique Fracture       0.50      0.06      0.11        16\n",
      "Pathological Fracture       0.12      0.11      0.11        18\n",
      "      Spiral Fracture       0.33      0.25      0.29        12\n",
      "\n",
      "             accuracy                           0.24       140\n",
      "            macro avg       0.25      0.22      0.21       140\n",
      "         weighted avg       0.25      0.24      0.22       140\n",
      "\n"
     ]
    }
   ],
   "source": [
    "# Normalize the features\n",
    "print(\"Normalizing Features\")\n",
    "scaler = StandardScaler()\n",
    "X_train = scaler.fit_transform(X_train)\n",
    "X_test = scaler.transform(X_test)\n",
    "\n",
    "# Encode labels\n",
    "print(\"Encoding labels\")\n",
    "label_encoder = LabelEncoder()\n",
    "y_train_encoded = label_encoder.fit_transform(y_train)\n",
    "y_test_encoded = label_encoder.transform(y_test)\n",
    "\n",
    "# Train the SVM classifier\n",
    "print(\"Training SVM\")\n",
    "classifier = svm.SVC(kernel='linear')\n",
    "classifier.fit(X_train, y_train_encoded)\n",
    "\n",
    "# Make predictions on the training set\n",
    "print(\"Predicting Training Set\")\n",
    "y_train_pred = classifier.predict(X_train)\n",
    "\n",
    "# Make predictions on the test set\n",
    "print(\"Predicting Test Set\")\n",
    "y_test_pred = classifier.predict(X_test)\n",
    "\n",
    "# Evaluate the classifier on the training set\n",
    "print(\"Training Set Accuracy:\", accuracy_score(y_train_encoded, y_train_pred))\n",
    "print(\"Training Set Classification Report:\\n\", classification_report(y_train_encoded, y_train_pred, target_names=label_encoder.classes_))\n",
    "\n",
    "# Evaluate the classifier on the test set\n",
    "print(\"Test Set Accuracy:\", accuracy_score(y_test_encoded, y_test_pred))\n",
    "print(\"Test Set Classification Report:\\n\", classification_report(y_test_encoded, y_test_pred, target_names=label_encoder.classes_))"
   ]
  },
  {
   "cell_type": "markdown",
   "id": "9691a05d",
   "metadata": {},
   "source": [
    "PCA with max PCs"
   ]
  },
  {
   "cell_type": "code",
   "execution_count": 14,
   "id": "acab9cb8",
   "metadata": {},
   "outputs": [
    {
     "name": "stdout",
     "output_type": "stream",
     "text": [
      "Automatically determined dimensions:\n",
      "HOG Feature Length: 142884\n",
      "Canny Feature Length: 262144\n",
      "Contour Feature Length: 35\n",
      "Normalizing Features\n",
      "Applying PCA to HOG Features\n",
      "Applying PCA to Canny Features\n",
      "Applying PCA to Contour Features\n",
      "Encoding labels\n",
      "Training SVM\n",
      "Predicting Training Set\n",
      "Predicting Test Set\n",
      "Training Set Accuracy: 1.0\n",
      "Training Set Classification Report:\n",
      "                        precision    recall  f1-score   support\n",
      "\n",
      "    Avulsion Fracture       1.00      1.00      1.00       109\n",
      "  Comminuted Fracture       1.00      1.00      1.00       134\n",
      " Fracture Dislocation       1.00      1.00      1.00       137\n",
      "  Greenstick Fracture       1.00      1.00      1.00       106\n",
      "    Hairline Fracture       1.00      1.00      1.00       101\n",
      "    Impacted Fracture       1.00      1.00      1.00        75\n",
      "Longitudinal Fracture       1.00      1.00      1.00        68\n",
      "     Oblique Fracture       1.00      1.00      1.00        69\n",
      "Pathological Fracture       1.00      1.00      1.00       116\n",
      "      Spiral Fracture       1.00      1.00      1.00        74\n",
      "\n",
      "             accuracy                           1.00       989\n",
      "            macro avg       1.00      1.00      1.00       989\n",
      "         weighted avg       1.00      1.00      1.00       989\n",
      "\n",
      "Test Set Accuracy: 0.2357142857142857\n",
      "Test Set Classification Report:\n",
      "                        precision    recall  f1-score   support\n",
      "\n",
      "    Avulsion Fracture       0.33      0.50      0.40        14\n",
      "  Comminuted Fracture       0.17      0.29      0.21        14\n",
      " Fracture Dislocation       0.27      0.42      0.33        19\n",
      "  Greenstick Fracture       0.19      0.25      0.22        16\n",
      "    Hairline Fracture       0.12      0.10      0.11        10\n",
      "    Impacted Fracture       0.00      0.00      0.00         9\n",
      "Longitudinal Fracture       0.43      0.25      0.32        12\n",
      "     Oblique Fracture       0.50      0.06      0.11        16\n",
      "Pathological Fracture       0.12      0.11      0.11        18\n",
      "      Spiral Fracture       0.33      0.25      0.29        12\n",
      "\n",
      "             accuracy                           0.24       140\n",
      "            macro avg       0.25      0.22      0.21       140\n",
      "         weighted avg       0.25      0.24      0.22       140\n",
      "\n"
     ]
    }
   ],
   "source": [
    "# Get the most common shape for each feature type\n",
    "hog_len = train_hog_shapes.index[0][0]\n",
    "canny_len = train_canny_shapes.index[0][0]\n",
    "contour_len = train_contour_shapes.index[0][0]\n",
    "\n",
    "print(\"Automatically determined dimensions:\")\n",
    "print(\"HOG Feature Length:\", hog_len)\n",
    "print(\"Canny Feature Length:\", canny_len)\n",
    "print(\"Contour Feature Length:\", contour_len)\n",
    "\n",
    "# Normalize the features\n",
    "print(\"Normalizing Features\")\n",
    "scaler = StandardScaler()\n",
    "X_train = scaler.fit_transform(X_train)\n",
    "X_test = scaler.transform(X_test)\n",
    "\n",
    "# Determine the number of samples\n",
    "n_samples = X_train.shape[0]\n",
    "\n",
    "# Split the features back into HOG, Canny, and Contour\n",
    "X_train_hog = X_train[:, :hog_len]\n",
    "X_train_canny = X_train[:, hog_len:hog_len+canny_len]\n",
    "X_train_contour = X_train[:, hog_len+canny_len:]\n",
    "\n",
    "X_test_hog = X_test[:, :hog_len]\n",
    "X_test_canny = X_test[:, hog_len:hog_len+canny_len]\n",
    "X_test_contour = X_test[:, hog_len+canny_len:]\n",
    "\n",
    "# Apply PCA to each feature type separately\n",
    "print(\"Applying PCA to HOG Features\")\n",
    "pca_hog = PCA(n_components=min(hog_len, n_samples))  # Use max_components or the feature length, whichever is smaller\n",
    "X_train_hog_pca = pca_hog.fit_transform(X_train_hog)\n",
    "X_test_hog_pca = pca_hog.transform(X_test_hog)\n",
    "\n",
    "print(\"Applying PCA to Canny Features\")\n",
    "pca_canny = PCA(n_components=min(canny_len, n_samples))  # Use max_components or the feature length, whichever is smaller\n",
    "X_train_canny_pca = pca_canny.fit_transform(X_train_canny)\n",
    "X_test_canny_pca = pca_canny.transform(X_test_canny)\n",
    "\n",
    "print(\"Applying PCA to Contour Features\")\n",
    "pca_contour = PCA(n_components=min(contour_len, n_samples))  # The contour feature length is 35\n",
    "X_train_contour_pca = pca_contour.fit_transform(X_train_contour)\n",
    "X_test_contour_pca = pca_contour.transform(X_test_contour)\n",
    "\n",
    "\n",
    "# Concatenate the reduced features back together\n",
    "X_train_pca = np.concatenate((X_train_hog_pca, X_train_canny_pca, X_train_contour_pca), axis=1)\n",
    "X_test_pca = np.concatenate((X_test_hog_pca, X_test_canny_pca, X_test_contour_pca), axis=1)\n",
    "\n",
    "# Encode labels\n",
    "print(\"Encoding labels\")\n",
    "label_encoder = LabelEncoder()\n",
    "y_train_encoded = label_encoder.fit_transform(y_train)\n",
    "y_test_encoded = label_encoder.transform(y_test)\n",
    "\n",
    "# Train the SVM classifier\n",
    "print(\"Training SVM\")\n",
    "classifier = svm.SVC(kernel='linear')\n",
    "classifier.fit(X_train_pca, y_train_encoded)\n",
    "\n",
    "# Make predictions on the training set\n",
    "print(\"Predicting Training Set\")\n",
    "y_train_pred = classifier.predict(X_train_pca)\n",
    "\n",
    "# Make predictions on the test set\n",
    "print(\"Predicting Test Set\")\n",
    "y_test_pred = classifier.predict(X_test_pca)\n",
    "\n",
    "# Evaluate the classifier on the training set\n",
    "print(\"Training Set Accuracy:\", accuracy_score(y_train_encoded, y_train_pred))\n",
    "print(\"Training Set Classification Report:\\n\", classification_report(y_train_encoded, y_train_pred, target_names=label_encoder.classes_))\n",
    "\n",
    "# Evaluate the classifier on the test set\n",
    "print(\"Test Set Accuracy:\", accuracy_score(y_test_encoded, y_test_pred))\n",
    "print(\"Test Set Classification Report:\\n\", classification_report(y_test_encoded, y_test_pred, target_names=label_encoder.classes_))"
   ]
  },
  {
   "cell_type": "markdown",
   "id": "fc779902",
   "metadata": {},
   "source": [
    "PCA with half PCs"
   ]
  },
  {
   "cell_type": "code",
   "execution_count": 15,
   "id": "4a415a81",
   "metadata": {},
   "outputs": [
    {
     "name": "stdout",
     "output_type": "stream",
     "text": [
      "Normalizing Features\n",
      "Applying PCA to HOG Features\n",
      "Applying PCA to Canny Features\n",
      "Applying PCA to Contour Features\n",
      "Encoding labels\n",
      "Training SVM\n",
      "Predicting Training Set\n",
      "Predicting Test Set\n",
      "Training Set Accuracy: 1.0\n",
      "Training Set Classification Report:\n",
      "                        precision    recall  f1-score   support\n",
      "\n",
      "    Avulsion Fracture       1.00      1.00      1.00       109\n",
      "  Comminuted Fracture       1.00      1.00      1.00       134\n",
      " Fracture Dislocation       1.00      1.00      1.00       137\n",
      "  Greenstick Fracture       1.00      1.00      1.00       106\n",
      "    Hairline Fracture       1.00      1.00      1.00       101\n",
      "    Impacted Fracture       1.00      1.00      1.00        75\n",
      "Longitudinal Fracture       1.00      1.00      1.00        68\n",
      "     Oblique Fracture       1.00      1.00      1.00        69\n",
      "Pathological Fracture       1.00      1.00      1.00       116\n",
      "      Spiral Fracture       1.00      1.00      1.00        74\n",
      "\n",
      "             accuracy                           1.00       989\n",
      "            macro avg       1.00      1.00      1.00       989\n",
      "         weighted avg       1.00      1.00      1.00       989\n",
      "\n",
      "Test Set Accuracy: 0.24285714285714285\n",
      "Test Set Classification Report:\n",
      "                        precision    recall  f1-score   support\n",
      "\n",
      "    Avulsion Fracture       0.29      0.43      0.34        14\n",
      "  Comminuted Fracture       0.28      0.57      0.37        14\n",
      " Fracture Dislocation       0.22      0.32      0.26        19\n",
      "  Greenstick Fracture       0.33      0.31      0.32        16\n",
      "    Hairline Fracture       0.00      0.00      0.00        10\n",
      "    Impacted Fracture       0.00      0.00      0.00         9\n",
      "Longitudinal Fracture       0.29      0.17      0.21        12\n",
      "     Oblique Fracture       0.50      0.06      0.11        16\n",
      "Pathological Fracture       0.18      0.17      0.17        18\n",
      "      Spiral Fracture       0.30      0.25      0.27        12\n",
      "\n",
      "             accuracy                           0.24       140\n",
      "            macro avg       0.24      0.23      0.21       140\n",
      "         weighted avg       0.25      0.24      0.22       140\n",
      "\n"
     ]
    }
   ],
   "source": [
    "# Normalize the features\n",
    "print(\"Normalizing Features\")\n",
    "scaler = StandardScaler()\n",
    "X_train = scaler.fit_transform(X_train)\n",
    "X_test = scaler.transform(X_test)\n",
    "\n",
    "# Determine the number of samples\n",
    "n_samples = X_train.shape[0]\n",
    "\n",
    "# Split the features back into HOG, Canny, and Contour\n",
    "X_train_hog = X_train[:, :hog_len]\n",
    "X_train_canny = X_train[:, hog_len:hog_len+canny_len]\n",
    "X_train_contour = X_train[:, hog_len+canny_len:]\n",
    "\n",
    "X_test_hog = X_test[:, :hog_len]\n",
    "X_test_canny = X_test[:, hog_len:hog_len+canny_len]\n",
    "X_test_contour = X_test[:, hog_len+canny_len:]\n",
    "\n",
    "# Apply PCA to each feature type separately\n",
    "print(\"Applying PCA to HOG Features\")\n",
    "pca_hog = PCA(n_components=min(500, n_samples))  # Use max_components or the feature length, whichever is smaller\n",
    "X_train_hog_pca = pca_hog.fit_transform(X_train_hog)\n",
    "X_test_hog_pca = pca_hog.transform(X_test_hog)\n",
    "\n",
    "print(\"Applying PCA to Canny Features\")\n",
    "pca_canny = PCA(n_components=min(500, n_samples))  # Use max_components or the feature length, whichever is smaller\n",
    "X_train_canny_pca = pca_canny.fit_transform(X_train_canny)\n",
    "X_test_canny_pca = pca_canny.transform(X_test_canny)\n",
    "\n",
    "print(\"Applying PCA to Contour Features\")\n",
    "pca_contour = PCA(n_components=min(12, n_samples))  # The contour feature length is 35\n",
    "X_train_contour_pca = pca_contour.fit_transform(X_train_contour)\n",
    "X_test_contour_pca = pca_contour.transform(X_test_contour)\n",
    "\n",
    "\n",
    "# Concatenate the reduced features back together\n",
    "X_train_pca = np.concatenate((X_train_hog_pca, X_train_canny_pca, X_train_contour_pca), axis=1)\n",
    "X_test_pca = np.concatenate((X_test_hog_pca, X_test_canny_pca, X_test_contour_pca), axis=1)\n",
    "\n",
    "# Encode labels\n",
    "print(\"Encoding labels\")\n",
    "label_encoder = LabelEncoder()\n",
    "y_train_encoded = label_encoder.fit_transform(y_train)\n",
    "y_test_encoded = label_encoder.transform(y_test)\n",
    "\n",
    "# Train the SVM classifier\n",
    "print(\"Training SVM\")\n",
    "classifier = svm.SVC(kernel='linear')\n",
    "classifier.fit(X_train_pca, y_train_encoded)\n",
    "\n",
    "# Make predictions on the training set\n",
    "print(\"Predicting Training Set\")\n",
    "y_train_pred = classifier.predict(X_train_pca)\n",
    "\n",
    "# Make predictions on the test set\n",
    "print(\"Predicting Test Set\")\n",
    "y_test_pred = classifier.predict(X_test_pca)\n",
    "\n",
    "# Evaluate the classifier on the training set\n",
    "print(\"Training Set Accuracy:\", accuracy_score(y_train_encoded, y_train_pred))\n",
    "print(\"Training Set Classification Report:\\n\", classification_report(y_train_encoded, y_train_pred, target_names=label_encoder.classes_))\n",
    "\n",
    "# Evaluate the classifier on the test set\n",
    "print(\"Test Set Accuracy:\", accuracy_score(y_test_encoded, y_test_pred))\n",
    "print(\"Test Set Classification Report:\\n\", classification_report(y_test_encoded, y_test_pred, target_names=label_encoder.classes_))"
   ]
  },
  {
   "cell_type": "markdown",
   "id": "45bf9452",
   "metadata": {},
   "source": [
    "PCA with 1/4 PCs"
   ]
  },
  {
   "cell_type": "code",
   "execution_count": 16,
   "id": "cab89e96",
   "metadata": {},
   "outputs": [
    {
     "name": "stdout",
     "output_type": "stream",
     "text": [
      "Normalizing Features\n",
      "Applying PCA to HOG Features\n",
      "Applying PCA to Canny Features\n",
      "Applying PCA to Contour Features\n",
      "Encoding labels\n",
      "Training SVM\n",
      "Predicting Training Set\n",
      "Predicting Test Set\n",
      "Training Set Accuracy: 1.0\n",
      "Training Set Classification Report:\n",
      "                        precision    recall  f1-score   support\n",
      "\n",
      "    Avulsion Fracture       1.00      1.00      1.00       109\n",
      "  Comminuted Fracture       1.00      1.00      1.00       134\n",
      " Fracture Dislocation       1.00      1.00      1.00       137\n",
      "  Greenstick Fracture       1.00      1.00      1.00       106\n",
      "    Hairline Fracture       1.00      1.00      1.00       101\n",
      "    Impacted Fracture       1.00      1.00      1.00        75\n",
      "Longitudinal Fracture       1.00      1.00      1.00        68\n",
      "     Oblique Fracture       1.00      1.00      1.00        69\n",
      "Pathological Fracture       1.00      1.00      1.00       116\n",
      "      Spiral Fracture       1.00      1.00      1.00        74\n",
      "\n",
      "             accuracy                           1.00       989\n",
      "            macro avg       1.00      1.00      1.00       989\n",
      "         weighted avg       1.00      1.00      1.00       989\n",
      "\n",
      "Test Set Accuracy: 0.2642857142857143\n",
      "Test Set Classification Report:\n",
      "                        precision    recall  f1-score   support\n",
      "\n",
      "    Avulsion Fracture       0.35      0.50      0.41        14\n",
      "  Comminuted Fracture       0.23      0.50      0.32        14\n",
      " Fracture Dislocation       0.33      0.47      0.39        19\n",
      "  Greenstick Fracture       0.39      0.44      0.41        16\n",
      "    Hairline Fracture       0.00      0.00      0.00        10\n",
      "    Impacted Fracture       0.00      0.00      0.00         9\n",
      "Longitudinal Fracture       0.33      0.25      0.29        12\n",
      "     Oblique Fracture       1.00      0.06      0.12        16\n",
      "Pathological Fracture       0.12      0.11      0.12        18\n",
      "      Spiral Fracture       0.11      0.08      0.10        12\n",
      "\n",
      "             accuracy                           0.26       140\n",
      "            macro avg       0.29      0.24      0.21       140\n",
      "         weighted avg       0.32      0.26      0.23       140\n",
      "\n"
     ]
    }
   ],
   "source": [
    "# Normalize the features\n",
    "print(\"Normalizing Features\")\n",
    "scaler = StandardScaler()\n",
    "X_train = scaler.fit_transform(X_train)\n",
    "X_test = scaler.transform(X_test)\n",
    "\n",
    "# Determine the number of samples\n",
    "n_samples = X_train.shape[0]\n",
    "\n",
    "# Split the features back into HOG, Canny, and Contour\n",
    "X_train_hog = X_train[:, :hog_len]\n",
    "X_train_canny = X_train[:, hog_len:hog_len+canny_len]\n",
    "X_train_contour = X_train[:, hog_len+canny_len:]\n",
    "\n",
    "X_test_hog = X_test[:, :hog_len]\n",
    "X_test_canny = X_test[:, hog_len:hog_len+canny_len]\n",
    "X_test_contour = X_test[:, hog_len+canny_len:]\n",
    "\n",
    "# Apply PCA to each feature type separately\n",
    "print(\"Applying PCA to HOG Features\")\n",
    "pca_hog = PCA(n_components=min(250, n_samples))  # Use max_components or the feature length, whichever is smaller\n",
    "X_train_hog_pca = pca_hog.fit_transform(X_train_hog)\n",
    "X_test_hog_pca = pca_hog.transform(X_test_hog)\n",
    "\n",
    "print(\"Applying PCA to Canny Features\")\n",
    "pca_canny = PCA(n_components=min(250, n_samples))  # Use max_components or the feature length, whichever is smaller\n",
    "X_train_canny_pca = pca_canny.fit_transform(X_train_canny)\n",
    "X_test_canny_pca = pca_canny.transform(X_test_canny)\n",
    "\n",
    "print(\"Applying PCA to Contour Features\")\n",
    "pca_contour = PCA(n_components=min(12, n_samples))  # The contour feature length is 35\n",
    "X_train_contour_pca = pca_contour.fit_transform(X_train_contour)\n",
    "X_test_contour_pca = pca_contour.transform(X_test_contour)\n",
    "\n",
    "\n",
    "# Concatenate the reduced features back together\n",
    "X_train_pca = np.concatenate((X_train_hog_pca, X_train_canny_pca, X_train_contour_pca), axis=1)\n",
    "X_test_pca = np.concatenate((X_test_hog_pca, X_test_canny_pca, X_test_contour_pca), axis=1)\n",
    "\n",
    "# Encode labels\n",
    "print(\"Encoding labels\")\n",
    "label_encoder = LabelEncoder()\n",
    "y_train_encoded = label_encoder.fit_transform(y_train)\n",
    "y_test_encoded = label_encoder.transform(y_test)\n",
    "\n",
    "# Train the SVM classifier\n",
    "print(\"Training SVM\")\n",
    "classifier = svm.SVC(kernel='linear')\n",
    "classifier.fit(X_train_pca, y_train_encoded)\n",
    "\n",
    "# Make predictions on the training set\n",
    "print(\"Predicting Training Set\")\n",
    "y_train_pred = classifier.predict(X_train_pca)\n",
    "\n",
    "# Make predictions on the test set\n",
    "print(\"Predicting Test Set\")\n",
    "y_test_pred = classifier.predict(X_test_pca)\n",
    "\n",
    "# Evaluate the classifier on the training set\n",
    "print(\"Training Set Accuracy:\", accuracy_score(y_train_encoded, y_train_pred))\n",
    "print(\"Training Set Classification Report:\\n\", classification_report(y_train_encoded, y_train_pred, target_names=label_encoder.classes_))\n",
    "\n",
    "# Evaluate the classifier on the test set\n",
    "print(\"Test Set Accuracy:\", accuracy_score(y_test_encoded, y_test_pred))\n",
    "print(\"Test Set Classification Report:\\n\", classification_report(y_test_encoded, y_test_pred, target_names=label_encoder.classes_))"
   ]
  },
  {
   "cell_type": "markdown",
   "id": "7cefca8c",
   "metadata": {},
   "source": [
    "PCA with 1/8 PCs"
   ]
  },
  {
   "cell_type": "code",
   "execution_count": 18,
   "id": "69562b20",
   "metadata": {},
   "outputs": [
    {
     "name": "stdout",
     "output_type": "stream",
     "text": [
      "Normalizing Features\n",
      "Applying PCA to HOG Features\n",
      "Applying PCA to Canny Features\n",
      "Applying PCA to Contour Features\n",
      "Encoding labels\n",
      "Training SVM\n",
      "Predicting Training Set\n",
      "Predicting Test Set\n",
      "Training Set Accuracy: 0.9949443882709808\n",
      "Training Set Classification Report:\n",
      "                        precision    recall  f1-score   support\n",
      "\n",
      "    Avulsion Fracture       1.00      1.00      1.00       109\n",
      "  Comminuted Fracture       0.99      0.99      0.99       134\n",
      " Fracture Dislocation       0.99      0.99      0.99       137\n",
      "  Greenstick Fracture       1.00      1.00      1.00       106\n",
      "    Hairline Fracture       1.00      1.00      1.00       101\n",
      "    Impacted Fracture       0.99      1.00      0.99        75\n",
      "Longitudinal Fracture       1.00      1.00      1.00        68\n",
      "     Oblique Fracture       1.00      1.00      1.00        69\n",
      "Pathological Fracture       1.00      0.99      1.00       116\n",
      "      Spiral Fracture       1.00      1.00      1.00        74\n",
      "\n",
      "             accuracy                           0.99       989\n",
      "            macro avg       1.00      1.00      1.00       989\n",
      "         weighted avg       0.99      0.99      0.99       989\n",
      "\n",
      "Test Set Accuracy: 0.15714285714285714\n",
      "Test Set Classification Report:\n",
      "                        precision    recall  f1-score   support\n",
      "\n",
      "    Avulsion Fracture       0.25      0.43      0.32        14\n",
      "  Comminuted Fracture       0.14      0.14      0.14        14\n",
      " Fracture Dislocation       0.19      0.32      0.24        19\n",
      "  Greenstick Fracture       0.14      0.19      0.16        16\n",
      "    Hairline Fracture       0.00      0.00      0.00        10\n",
      "    Impacted Fracture       0.00      0.00      0.00         9\n",
      "Longitudinal Fracture       0.00      0.00      0.00        12\n",
      "     Oblique Fracture       0.25      0.12      0.17        16\n",
      "Pathological Fracture       0.15      0.11      0.13        18\n",
      "      Spiral Fracture       0.11      0.08      0.10        12\n",
      "\n",
      "             accuracy                           0.16       140\n",
      "            macro avg       0.12      0.14      0.12       140\n",
      "         weighted avg       0.14      0.16      0.14       140\n",
      "\n"
     ]
    }
   ],
   "source": [
    "# Normalize the features\n",
    "print(\"Normalizing Features\")\n",
    "scaler = StandardScaler()\n",
    "X_train = scaler.fit_transform(X_train)\n",
    "X_test = scaler.transform(X_test)\n",
    "\n",
    "# Determine the number of samples\n",
    "n_samples = X_train.shape[0]\n",
    "\n",
    "# Split the features back into HOG, Canny, and Contour\n",
    "X_train_hog = X_train[:, :hog_len]\n",
    "X_train_canny = X_train[:, hog_len:hog_len+canny_len]\n",
    "X_train_contour = X_train[:, hog_len+canny_len:]\n",
    "\n",
    "X_test_hog = X_test[:, :hog_len]\n",
    "X_test_canny = X_test[:, hog_len:hog_len+canny_len]\n",
    "X_test_contour = X_test[:, hog_len+canny_len:]\n",
    "\n",
    "# Apply PCA to each feature type separately\n",
    "print(\"Applying PCA to HOG Features\")\n",
    "pca_hog = PCA(n_components=min(50, n_samples))  # Use max_components or the feature length, whichever is smaller\n",
    "X_train_hog_pca = pca_hog.fit_transform(X_train_hog)\n",
    "X_test_hog_pca = pca_hog.transform(X_test_hog)\n",
    "\n",
    "print(\"Applying PCA to Canny Features\")\n",
    "pca_canny = PCA(n_components=min(50, n_samples))  # Use max_components or the feature length, whichever is smaller\n",
    "X_train_canny_pca = pca_canny.fit_transform(X_train_canny)\n",
    "X_test_canny_pca = pca_canny.transform(X_test_canny)\n",
    "\n",
    "print(\"Applying PCA to Contour Features\")\n",
    "pca_contour = PCA(n_components=min(12, n_samples))  # The contour feature length is 35\n",
    "X_train_contour_pca = pca_contour.fit_transform(X_train_contour)\n",
    "X_test_contour_pca = pca_contour.transform(X_test_contour)\n",
    "\n",
    "\n",
    "# Concatenate the reduced features back together\n",
    "X_train_pca = np.concatenate((X_train_hog_pca, X_train_canny_pca, X_train_contour_pca), axis=1)\n",
    "X_test_pca = np.concatenate((X_test_hog_pca, X_test_canny_pca, X_test_contour_pca), axis=1)\n",
    "\n",
    "# Encode labels\n",
    "print(\"Encoding labels\")\n",
    "label_encoder = LabelEncoder()\n",
    "y_train_encoded = label_encoder.fit_transform(y_train)\n",
    "y_test_encoded = label_encoder.transform(y_test)\n",
    "\n",
    "# Train the SVM classifier\n",
    "print(\"Training SVM\")\n",
    "classifier = svm.SVC(kernel='linear')\n",
    "classifier.fit(X_train_pca, y_train_encoded)\n",
    "\n",
    "# Make predictions on the training set\n",
    "print(\"Predicting Training Set\")\n",
    "y_train_pred = classifier.predict(X_train_pca)\n",
    "\n",
    "# Make predictions on the test set\n",
    "print(\"Predicting Test Set\")\n",
    "y_test_pred = classifier.predict(X_test_pca)\n",
    "\n",
    "# Evaluate the classifier on the training set\n",
    "print(\"Training Set Accuracy:\", accuracy_score(y_train_encoded, y_train_pred))\n",
    "print(\"Training Set Classification Report:\\n\", classification_report(y_train_encoded, y_train_pred, target_names=label_encoder.classes_))\n",
    "\n",
    "# Evaluate the classifier on the test set\n",
    "print(\"Test Set Accuracy:\", accuracy_score(y_test_encoded, y_test_pred))\n",
    "print(\"Test Set Classification Report:\\n\", classification_report(y_test_encoded, y_test_pred, target_names=label_encoder.classes_))"
   ]
  },
  {
   "cell_type": "markdown",
   "id": "b186f66a",
   "metadata": {},
   "source": [
    "### Misc Analysis"
   ]
  },
  {
   "cell_type": "code",
   "execution_count": 3,
   "id": "ecbd9ae1",
   "metadata": {},
   "outputs": [
    {
     "name": "stdout",
     "output_type": "stream",
     "text": [
      "Width: min=58, max=640, mean=429.5490394337715, median=443.0\n",
      "Height: min=77, max=640, mean=561.4509605662286, median=640.0\n"
     ]
    }
   ],
   "source": [
    "# Function to get image dimensions\n",
    "def get_image_dimensions(image_path):\n",
    "    \"\"\"\n",
    "    Get dimensions of an image.\n",
    "\n",
    "    Args:\n",
    "    - image_path (str): Path to the image file.\n",
    "\n",
    "    Returns:\n",
    "    - tuple: Width and height of the image.\n",
    "    \"\"\"\n",
    "    image = tf.io.read_file(image_path)\n",
    "    image = tf.image.decode_jpeg(image)\n",
    "    return image.shape[1], image.shape[0]\n",
    "\n",
    "# Lists to store image dimensions\n",
    "widths = []\n",
    "heights = []\n",
    "\n",
    "# Loop over each class and its images\n",
    "for class_name, class_path in paths.items():\n",
    "    # List all image files in the directory\n",
    "    image_files = tf.io.gfile.listdir(class_path)\n",
    "    # Loop over each image file\n",
    "    for image_file in image_files:\n",
    "        # Get the full path to the image\n",
    "        image_path = os.path.join(class_path, image_file)\n",
    "        # Get the dimensions of the image\n",
    "        width, height = get_image_dimensions(image_path)\n",
    "        # Append the dimensions to the lists\n",
    "        widths.append(width)\n",
    "        heights.append(height)\n",
    "\n",
    "# Convert lists to numpy arrays for easier analysis\n",
    "widths = np.array(widths)\n",
    "heights = np.array(heights)\n",
    "\n",
    "# Calculate statistics\n",
    "min_width = np.min(widths)\n",
    "max_width = np.max(widths)\n",
    "mean_width = np.mean(widths)\n",
    "median_width = np.median(widths)\n",
    "\n",
    "min_height = np.min(heights)\n",
    "max_height = np.max(heights)\n",
    "mean_height = np.mean(heights)\n",
    "median_height = np.median(heights)\n",
    "\n",
    "# Print statistics\n",
    "print(f\"Width: min={min_width}, max={max_width}, mean={mean_width}, median={median_width}\")\n",
    "print(f\"Height: min={min_height}, max={max_height}, mean={mean_height}, median={median_height}\")"
   ]
  },
  {
   "cell_type": "code",
   "execution_count": 9,
   "id": "5da83c03",
   "metadata": {},
   "outputs": [
    {
     "name": "stdout",
     "output_type": "stream",
     "text": [
      "Label to Fracture Mapping:\n",
      "0: Hairline Fracture\n",
      "1: Spiral Fracture\n",
      "2: Greenstick Fracture\n",
      "3: Comminuted Fracture\n",
      "4: Fracture Dislocation\n",
      "5: Pathological Fracture\n",
      "6: Longitudinal Fracture\n",
      "7: Oblique Fracture\n",
      "8: Impacted Fracture\n",
      "9: Avulsion Fracture\n"
     ]
    }
   ],
   "source": [
    "# Print label to fracture mapping\n",
    "label_to_fracture = {label: fracture for label, fracture in enumerate(paths.keys())}\n",
    "print(\"Label to Fracture Mapping:\")\n",
    "for label, fracture in label_to_fracture.items():\n",
    "    print(f\"{label}: {fracture}\")"
   ]
  },
  {
   "cell_type": "code",
   "execution_count": 20,
   "id": "706e7515",
   "metadata": {},
   "outputs": [
    {
     "name": "stdout",
     "output_type": "stream",
     "text": [
      "Inconsistent image found in class: Avulsion Fracture\n",
      "Image file: 12891_2019_2585_Fig5_HTML_png.rf.e7f1f0cb0b6723cde402057336779890.jpg\n",
      "Image path: data/Avulsion fracture/Train\\12891_2019_2585_Fig5_HTML_png.rf.e7f1f0cb0b6723cde402057336779890.jpg\n",
      "Number of contours found: 1\n",
      "Contour features shape: (7,)\n",
      "Contour features: [ 5.12772215e+01  9.07899554e+02  1.22862513e+05  1.40072149e+04\n",
      " -5.79421323e+08 -4.21180559e+05 -4.38994824e+07]\n"
     ]
    },
    {
     "data": {
      "image/png": "[encoded data removed]",
      "text/plain": [
       "<Figure size 864x720 with 4 Axes>"
      ]
     },
     "metadata": {
      "needs_background": "light"
     },
     "output_type": "display_data"
    }
   ],
   "source": [
    "# Found an image that had a contour shape of 7 instead of 35.\n",
    "\n",
    "\n",
    "import matplotlib.pyplot as plt\n",
    "\n",
    "# Identify the image with the inconsistent contour feature shape\n",
    "inconsistent_image_info = df_feature_shapes[df_feature_shapes['contour_shape'] == (7,)]\n",
    "\n",
    "# Get the details of the inconsistent image\n",
    "if not inconsistent_image_info.empty:\n",
    "    inconsistent_class = inconsistent_image_info.iloc[0]['class']\n",
    "    inconsistent_image_file = inconsistent_image_info.iloc[0]['image_file']\n",
    "    inconsistent_image_path = os.path.join(paths[inconsistent_class], inconsistent_image_file)\n",
    "\n",
    "    print(f\"Inconsistent image found in class: {inconsistent_class}\")\n",
    "    print(f\"Image file: {inconsistent_image_file}\")\n",
    "    print(f\"Image path: {inconsistent_image_path}\")\n",
    "\n",
    "    # Load and preprocess the inconsistent image\n",
    "    inconsistent_image = load_image(inconsistent_image_path)\n",
    "\n",
    "    # Extract and visualize features for the inconsistent image\n",
    "    hog_features = extract_hog_features(inconsistent_image)\n",
    "    canny_features = extract_canny_edges(inconsistent_image)\n",
    "    contour_features, contours = extract_contours(inconsistent_image)\n",
    "\n",
    "    # Visualize the inconsistent image and its features\n",
    "    plt.figure(figsize=(12, 10))\n",
    "\n",
    "    plt.subplot(3, 2, 1)\n",
    "    plt.title('Inconsistent Original Image')\n",
    "    plt.imshow(inconsistent_image, cmap='gray')\n",
    "    plt.axis('off')\n",
    "\n",
    "    plt.subplot(3, 2, 2)\n",
    "    plt.title('HOG Image')\n",
    "    _, hog_image = extract_hog_features(inconsistent_image)\n",
    "    plt.imshow(hog_image, cmap='gray')\n",
    "    plt.axis('off')\n",
    "\n",
    "    plt.subplot(3, 2, 3)\n",
    "    plt.title('Canny Edges')\n",
    "    _, canny_image = extract_canny_edges(inconsistent_image)\n",
    "    plt.imshow(canny_image, cmap='gray')\n",
    "    plt.axis('off')\n",
    "\n",
    "    plt.subplot(3, 2, 4)\n",
    "    plt.title('Contours')\n",
    "    plt.imshow(cv2.drawContours(inconsistent_image.copy(), contours, -1, (0, 255, 0), 2))\n",
    "    plt.axis('off')\n",
    "\n",
    "    # Analyze the contours to see why the shape is different\n",
    "    print(f\"Number of contours found: {len(contours)}\")\n",
    "    print(f\"Contour features shape: {contour_features.shape}\")\n",
    "    print(\"Contour features:\", contour_features)\n",
    "\n",
    "    plt.show()\n",
    "else:\n",
    "    print(\"No inconsistent image found.\")\n"
   ]
  }
 ],
 "metadata": {
  "kernelspec": {
   "display_name": "Python 3 (ipykernel)",
   "language": "python",
   "name": "python3"
  },
  "language_info": {
   "codemirror_mode": {
    "name": "ipython",
    "version": 3
   },
   "file_extension": ".py",
   "mimetype": "text/x-python",
   "name": "python",
   "nbconvert_exporter": "python",
   "pygments_lexer": "ipython3",
   "version": "3.9.12"
  }
 },
 "nbformat": 4,
 "nbformat_minor": 5
}
